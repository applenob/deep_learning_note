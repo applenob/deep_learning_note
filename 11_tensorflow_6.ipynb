{
 "cells": [
  {
   "cell_type": "markdown",
   "metadata": {
    "collapsed": true
   },
   "source": [
    "# Optimizer"
   ]
  },
  {
   "cell_type": "markdown",
   "metadata": {},
   "source": [
    "```\n",
    "本篇博客探索所用tensorflow的优化器解决最优化问题\n",
    "```"
   ]
  },
  {
   "cell_type": "code",
   "execution_count": 1,
   "metadata": {
    "collapsed": true
   },
   "outputs": [],
   "source": [
    "import tensorflow as tf"
   ]
  },
  {
   "cell_type": "markdown",
   "metadata": {},
   "source": [
    "定义目标函数， $loss = (x-3)^2$， 求goal最小时，x的值："
   ]
  },
  {
   "cell_type": "code",
   "execution_count": 2,
   "metadata": {
    "collapsed": false
   },
   "outputs": [],
   "source": [
    "# x = tf.placeholder(tf.float32)\n",
    "x = tf.Variable(tf.truncated_normal([1]))\n",
    "goal = tf.pow(x-3,2)"
   ]
  },
  {
   "cell_type": "code",
   "execution_count": 3,
   "metadata": {
    "collapsed": false
   },
   "outputs": [
    {
     "name": "stdout",
     "output_type": "stream",
     "text": [
      "[-0.09843425]\n",
      "[ 9.60029411]\n"
     ]
    }
   ],
   "source": [
    "with tf.Session() as sess:\n",
    "    x.initializer.run()\n",
    "    print x.eval()\n",
    "    print goal.eval()"
   ]
  },
  {
   "cell_type": "markdown",
   "metadata": {},
   "source": [
    "使用梯度下降优化器解决问题。\n",
    "\n",
    "## 1. 使用minimize()"
   ]
  },
  {
   "cell_type": "code",
   "execution_count": 4,
   "metadata": {
    "collapsed": false
   },
   "outputs": [],
   "source": [
    "optimizer = tf.train.GradientDescentOptimizer(learning_rate=0.1)\n",
    "train_step = optimizer.minimize(goal)"
   ]
  },
  {
   "cell_type": "code",
   "execution_count": 5,
   "metadata": {
    "collapsed": false
   },
   "outputs": [
    {
     "name": "stdout",
     "output_type": "stream",
     "text": [
      "x:  [-1.07398713]\n",
      "goal:  [ 10.62231827]\n",
      "x:  [-0.25918981]\n",
      "goal:  [ 6.79828358]\n",
      "x:  [ 0.39264813]\n",
      "goal:  [ 4.3509016]\n",
      "x:  [ 0.91411847]\n",
      "goal:  [ 2.78457713]\n",
      "x:  [ 1.33129478]\n",
      "goal:  [ 1.78212929]\n",
      "x:  [ 1.66503584]\n",
      "goal:  [ 1.14056277]\n",
      "x:  [ 1.93202865]\n",
      "goal:  [ 0.72996008]\n",
      "x:  [ 2.14562297]\n",
      "goal:  [ 0.46717459]\n",
      "x:  [ 2.31649828]\n",
      "goal:  [ 0.29899168]\n",
      "x:  [ 2.45319867]\n",
      "goal:  [ 0.19135472]\n"
     ]
    }
   ],
   "source": [
    "def train():\n",
    "    with tf.Session() as sess:\n",
    "        x.initializer.run()\n",
    "        for i in range(10):\n",
    "            print \"x: \", x.eval()\n",
    "            train_step.run()\n",
    "            print \"goal: \",goal.eval()    \n",
    "train()"
   ]
  },
  {
   "cell_type": "markdown",
   "metadata": {},
   "source": [
    "## 2 . minimize() = compute_gradients() + apply_gradients()\n",
    "\n",
    "拆分成计算梯度和应用梯度两个步骤。"
   ]
  },
  {
   "cell_type": "code",
   "execution_count": 6,
   "metadata": {
    "collapsed": false
   },
   "outputs": [
    {
     "name": "stdout",
     "output_type": "stream",
     "text": [
      "x:  [-0.91358572]\n",
      "goal:  [ 9.80233669]\n",
      "x:  [-0.13086852]\n",
      "goal:  [ 6.27349615]\n",
      "x:  [ 0.49530518]\n",
      "goal:  [ 4.01503706]\n",
      "x:  [ 0.99624419]\n",
      "goal:  [ 2.56962395]\n",
      "x:  [ 1.39699531]\n",
      "goal:  [ 1.64455926]\n",
      "x:  [ 1.71759629]\n",
      "goal:  [ 1.05251801]\n",
      "x:  [ 1.97407699]\n",
      "goal:  [ 0.6736114]\n",
      "x:  [ 2.17926168]\n",
      "goal:  [ 0.43111134]\n",
      "x:  [ 2.3434093]\n",
      "goal:  [ 0.2759113]\n",
      "x:  [ 2.47472739]\n",
      "goal:  [ 0.17658314]\n"
     ]
    }
   ],
   "source": [
    "# compute_gradients 返回的是：A list of (gradient, variable) pairs\n",
    "gra_and_var = optimizer.compute_gradients(goal)\n",
    "train_step = optimizer.apply_gradients(gra_and_var)\n",
    "train()"
   ]
  },
  {
   "cell_type": "markdown",
   "metadata": {},
   "source": [
    "## 3. 进一步\n",
    "\n",
    "- clip_by_global_norm:修正梯度值，用于控制梯度爆炸的问题。梯度爆炸和梯度弥散的原因一样，都是因为链式法则求导的关系，导致梯度的指数级衰减。为了避免梯度爆炸，需要对梯度进行修剪。 "
   ]
  },
  {
   "cell_type": "code",
   "execution_count": 7,
   "metadata": {
    "collapsed": false
   },
   "outputs": [
    {
     "name": "stdout",
     "output_type": "stream",
     "text": [
      "x:  [-0.06642474]\n",
      "goal:  [ 8.6519804]\n",
      "x:  [ 0.05857526]\n",
      "goal:  [ 7.93224907]\n",
      "x:  [ 0.18357527]\n",
      "goal:  [ 7.24376774]\n",
      "x:  [ 0.30857527]\n",
      "goal:  [ 6.58653641]\n",
      "x:  [ 0.43357527]\n",
      "goal:  [ 5.96055555]\n",
      "x:  [ 0.55857527]\n",
      "goal:  [ 5.36582375]\n",
      "x:  [ 0.68357527]\n",
      "goal:  [ 4.80234289]\n",
      "x:  [ 0.80857527]\n",
      "goal:  [ 4.27011156]\n",
      "x:  [ 0.93357527]\n",
      "goal:  [ 3.76913023]\n",
      "x:  [ 1.05857527]\n",
      "goal:  [ 3.2993989]\n"
     ]
    }
   ],
   "source": [
    "gradients, vriables = zip(*optimizer.compute_gradients(goal))\n",
    "gradients, _ = tf.clip_by_global_norm(gradients, 1.25)\n",
    "train_step = optimizer.apply_gradients(zip(gradients, vriables))\n",
    "train()"
   ]
  },
  {
   "cell_type": "markdown",
   "metadata": {},
   "source": [
    "- 加入学习率衰减："
   ]
  },
  {
   "cell_type": "code",
   "execution_count": 8,
   "metadata": {
    "collapsed": false
   },
   "outputs": [
    {
     "name": "stdout",
     "output_type": "stream",
     "text": [
      "x:  [ 0.43469602]\n",
      "goal:  [ 1.40350509]\n",
      "x:  [ 4.1846962]\n",
      "goal:  [ 6.58078384]\n",
      "x:  [ 0.4346962]\n",
      "goal:  [ 1.40350509]\n",
      "x:  [ 4.1846962]\n",
      "goal:  [ 0.00356364]\n",
      "x:  [ 3.0596962]\n",
      "goal:  [ 0.00228072]\n",
      "x:  [ 2.95224309]\n",
      "goal:  [ 0.00145967]\n",
      "x:  [ 3.03820562]\n",
      "goal:  [ 0.00030886]\n",
      "x:  [ 3.01757455]\n",
      "goal:  [  6.53558600e-05]\n",
      "x:  [ 3.0080843]\n",
      "goal:  [  1.38298683e-05]\n",
      "x:  [ 3.00371885]\n",
      "goal:  [  9.71175723e-06]\n"
     ]
    }
   ],
   "source": [
    "# global_step 记录当前是第几个batch\n",
    "global_step = tf.Variable(0)\n",
    "learning_rate = tf.train.exponential_decay(\n",
    "    3.0, global_step, 3, 0.3, staircase=True)\n",
    "optimizer2 = tf.train.GradientDescentOptimizer(learning_rate)\n",
    "gradients, vriables = zip(*optimizer2.compute_gradients(goal))\n",
    "gradients, _ = tf.clip_by_global_norm(gradients, 1.25)\n",
    "train_step = optimizer2.apply_gradients(zip(gradients, vriables), \n",
    "                                       global_step=global_step)\n",
    "with tf.Session() as sess:\n",
    "        global_step.initializer.run()\n",
    "        x.initializer.run()\n",
    "        for i in range(10):\n",
    "            print \"x: \", x.eval()\n",
    "            train_step.run()\n",
    "            print \"goal: \",goal.eval()    "
   ]
  }
 ],
 "metadata": {
  "anaconda-cloud": {},
  "kernelspec": {
   "display_name": "Python [default]",
   "language": "python",
   "name": "python2"
  },
  "language_info": {
   "codemirror_mode": {
    "name": "ipython",
    "version": 2
   },
   "file_extension": ".py",
   "mimetype": "text/x-python",
   "name": "python",
   "nbconvert_exporter": "python",
   "pygments_lexer": "ipython2",
   "version": "2.7.12"
  }
 },
 "nbformat": 4,
 "nbformat_minor": 0
}
