{
 "cells": [
  {
   "cell_type": "markdown",
   "metadata": {
    "collapsed": true
   },
   "source": [
    "# deep into backpropagation"
   ]
  },
  {
   "cell_type": "markdown",
   "metadata": {},
   "source": [
    "## The four fundamental equations behind backpropagation\n",
    "definition:\n",
    "$$δ^l_j=\\frac{∂C}{∂a^l_j}$$\n",
    "\n",
    "==>\n",
    "\n",
    "An equation for the error in the output layer:\n",
    "$$δ^L_j=\\frac{∂C}{∂a^L_j}σ′(z^L_j)$$(BP1)\n",
    "- L means the last layer(l)\n",
    "- you can understand this simply by the chain rule\n",
    "  \n",
    "==>\n",
    "$$δ^L=∇_aC⊙σ′(z^L)$$(BP1a)\n",
    "- matrix-based form "
   ]
  },
  {
   "cell_type": "markdown",
   "metadata": {},
   "source": [
    "An equation for the error δl in terms of the error in the next layer:\n",
    "$$δ^l=((w^{l+1})^Tδ^{l+1})⊙σ′(z^l)$$(BP2)\n",
    "\n",
    "- this is bp !!"
   ]
  },
  {
   "cell_type": "markdown",
   "metadata": {},
   "source": [
    "$$\\frac{∂C}{∂b^l_j}=δ^l_j$$(BP3)\n",
    "$$\\frac{∂C}{∂w^l_{jk}}=a^{l-1}_kδ^l_j$$(BP4)"
   ]
  },
  {
   "cell_type": "markdown",
   "metadata": {},
   "source": [
    "As we can see, formular BP1, BP3, BP4 is very simple, we can use the chain rule to get them easily.\n"
   ]
  },
  {
   "cell_type": "markdown",
   "metadata": {},
   "source": [
    "BP3 and BP4 is what we want, BP1 is the start of BP2.\n",
    "\n",
    "That's all for bp."
   ]
  },
  {
   "cell_type": "markdown",
   "metadata": {},
   "source": [
    "## Other things I want to mention ..."
   ]
  },
  {
   "cell_type": "markdown",
   "metadata": {},
   "source": []
  },
  {
   "cell_type": "code",
   "execution_count": null,
   "metadata": {
    "collapsed": true
   },
   "outputs": [],
   "source": []
  }
 ],
 "metadata": {
  "anaconda-cloud": {},
  "kernelspec": {
   "display_name": "Python [default]",
   "language": "python",
   "name": "python2"
  },
  "language_info": {
   "codemirror_mode": {
    "name": "ipython",
    "version": 2
   },
   "file_extension": ".py",
   "mimetype": "text/x-python",
   "name": "python",
   "nbconvert_exporter": "python",
   "pygments_lexer": "ipython2",
   "version": "2.7.12"
  }
 },
 "nbformat": 4,
 "nbformat_minor": 0
}
