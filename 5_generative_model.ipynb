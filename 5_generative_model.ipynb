{
 "cells": [
  {
   "cell_type": "markdown",
   "metadata": {},
   "source": [
    "# 深度生成模型总结\n",
    "\n",
    "前段时间研究了一段`Zero Shot Learning`，研究了一些生成模型，总结一下备忘。\n",
    "\n",
    "关于生成模型有一个很好的[github仓库](https://github.com/wiseodd/generative-models)，而且作者的[博客](https://wiseodd.github.io/)写的也非常精彩。\n",
    "\n",
    "本文主要总结下**GAN**和**VAE**两种生成模型。"
   ]
  },
  {
   "cell_type": "markdown",
   "metadata": {},
   "source": [
    "## GAN\n",
    "\n",
    "GAN的原始paper是大神Goodfellow的[《Generative Adversarial Nets》](https://papers.nips.cc/paper/5423-generative-adversarial-nets.pdf)\n",
    "\n",
    "先简介下模型的思想："
   ]
  }
 ],
 "metadata": {
  "kernelspec": {
   "display_name": "Python [default]",
   "language": "python",
   "name": "python2"
  },
  "language_info": {
   "codemirror_mode": {
    "name": "ipython",
    "version": 2
   },
   "file_extension": ".py",
   "mimetype": "text/x-python",
   "name": "python",
   "nbconvert_exporter": "python",
   "pygments_lexer": "ipython2",
   "version": "2.7.12"
  }
 },
 "nbformat": 4,
 "nbformat_minor": 1
}
